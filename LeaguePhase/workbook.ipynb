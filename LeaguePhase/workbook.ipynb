{
 "cells": [
  {
   "cell_type": "code",
   "execution_count": 226,
   "metadata": {},
   "outputs": [],
   "source": [
    "import pandas as pd \n",
    "import numpy as np \n",
    "import matplotlib.pyplot as plt"
   ]
  },
  {
   "cell_type": "markdown",
   "metadata": {},
   "source": [
    "# Setup"
   ]
  },
  {
   "cell_type": "code",
   "execution_count": 270,
   "metadata": {},
   "outputs": [],
   "source": [
    "uefa_df = pd.read_csv('data/uefa.com/uefa_stats.csv') # stats from uefa website\n",
    "standings = pd.read_csv('data/other/table.csv') # table with standings +\n",
    "results =  pd.read_csv('data/other/results.csv') # all league phase match results"
   ]
  },
  {
   "cell_type": "code",
   "execution_count": 271,
   "metadata": {},
   "outputs": [],
   "source": [
    "team_map = {\n",
    "'results' : {\n",
    "    'AC Milan':'MIL',\n",
    "    'Arsenal':'ARS',\n",
    "    'Aston Villa':'AVL',\n",
    "    'Atalanta':'ATA',\n",
    "    'Atlético de Madrid':'ATM',\n",
    "    'Barcelona':'BAR',\n",
    "    'Bayer Leverkusen':'BO4',\n",
    "    'Bayern München':'MUN',\n",
    "    'Benfica':'BEN',\n",
    "    'Bologna':'BOL',\n",
    "    'Borussia Dortmund':'BVB',\n",
    "    'Brest':'BRE',\n",
    "    'Celtic':'CEL',\n",
    "    'Club Brugge':'BRU',\n",
    "    'Crvena Zvezda':'RSB',\n",
    "    'Feyenoord':'FEY',\n",
    "    'GNK Dinamo':'DZG',\n",
    "    'Girona':'GIR',\n",
    "    'Inter':'INT',\n",
    "    'Juventus':'JUV',\n",
    "    'Leipzig':'RBL',\n",
    "    'Lille':'LILL',\n",
    "    'Liverpool':'LIV',\n",
    "    'Manchester City':'MNC',\n",
    "    'Monaco':'MON',\n",
    "    'PSV Eindhoven':'PSV',\n",
    "    'Paris Saint-Germain':'PSG',\n",
    "    'Real Madrid':'RMA',\n",
    "    'Salzburg':'SLZ',\n",
    "    'Shakhtar Donetsk':'SHK',\n",
    "    'Slovan Bratislava':'SLV',\n",
    "    'Sparta Praha':'SPP',\n",
    "    'Sporting CP':'SCP',\n",
    "    'Sturm Graz':'STG',\n",
    "    'Stuttgart':'VFB',\n",
    "    'Young Boys':'YB'\n",
    "},\n",
    "'uefa_df': {\n",
    "    'Bayern München':'MUN',\n",
    "    'Man City':'MNC',\n",
    "    'Paris':'PSG',\n",
    "    'PSV':'PSV',\n",
    "    'Stuttgart': 'VFB',\n",
    "    'Atalanta':'ATA',\n",
    "    'Leverkusen':'B04',\n",
    "    'Liverpool':'LIV',\n",
    "    'Real Madrid':'RMA',\n",
    "    'Barcelona':'BAR',\n",
    "    'Milan':'MIL',\n",
    "    'B. Dortmund':'BVB',\n",
    "    'Arsenal':'ARS',\n",
    "    'Aston Villa':'AVL',\n",
    "    'Benfica':'BEN',\n",
    "    'Sporting CP':'SCP',\n",
    "    'Inter':'INT',\n",
    "    'Brest':'BRE',\n",
    "    'Leipzig':'RBL',\n",
    "    'Atleti':'ATM',\n",
    "    'Monaco':'MON',\n",
    "    'Crvena Zvezda':'RSB',\n",
    "    'Bologna':'BOL',\n",
    "    'Club Brugge':'BRU',\n",
    "    'Juventus':'JUV',\n",
    "    'Feyenoord':'FEY',\n",
    "    'Celtic':'CEL',\n",
    "    'Young Boys':'YB',\n",
    "    'Girona':'GIR',\n",
    "    'Lille':'LILL',\n",
    "    'GNK Dinamo':'DZG',\n",
    "    'Shakhtar':'SHK',\n",
    "    'Salzburg':'SLZ',\n",
    "    'Sparta Praha':'SPP',\n",
    "    'Sturm Graz':'STG',\n",
    "    'S. Bratislava':'SLV'\n",
    "}}"
   ]
  },
  {
   "cell_type": "code",
   "execution_count": 272,
   "metadata": {},
   "outputs": [],
   "source": [
    "uefa_df['symbol'] = uefa_df['Team'].map(team_map['uefa_df'])\n",
    "uefa_df.drop(columns=['Country_x','Country_y'],inplace=True)\n",
    "results['home symbol'] = results['home'].map(team_map['results'])\n",
    "results['away symbol'] = results['away'].map(team_map['results'])\n"
   ]
  },
  {
   "cell_type": "code",
   "execution_count": 273,
   "metadata": {},
   "outputs": [
    {
     "data": {
      "text/plain": [
       "Index(['Team', 'Total Attempts', 'Attempts On Target', 'Attempts Off Target',\n",
       "       'Blocked', 'Balls Recovered', 'Tackles', 'Tackles Won', 'Tackles lost',\n",
       "       'Clearances Attempted', 'Passing Accuracy %', 'Passes Attempted',\n",
       "       'Passes Completed', 'Possession', 'Crossing Accuracy',\n",
       "       'Crosses Attempted', 'Crosses Completed', 'Free-kicks Taken', 'Saves',\n",
       "       'Goals Conceded', 'Own Goals Conceded', 'Saves From Penalties',\n",
       "       'Clean Sheets', 'Punches made', 'GP', 'Goals', 'Right Foot',\n",
       "       'Left Foot', 'Head', 'Other', 'Goals inside Area', 'Goals outside Area',\n",
       "       'Penalties Scored', 'Attacks', 'Assists', 'Corners Taken', 'Offsides',\n",
       "       'Dribbles', 'Country', 'Fouls Commited', 'Fouls Suffered',\n",
       "       'Yellow Cards', 'Red Cards', 'symbol'],\n",
       "      dtype='object')"
      ]
     },
     "execution_count": 273,
     "metadata": {},
     "output_type": "execute_result"
    }
   ],
   "source": [
    "uefa_df.columns"
   ]
  },
  {
   "cell_type": "code",
   "execution_count": 274,
   "metadata": {},
   "outputs": [],
   "source": [
    "master_df = uefa_df.merge(standings, left_on='symbol', right_on='team' )\n",
    "master_df.drop(columns=['GP_y','GP_x','team','name'], axis=1, inplace=True)\n",
    "master_df.sort_values(by='standing',ascending=True, inplace=True)"
   ]
  },
  {
   "cell_type": "code",
   "execution_count": 275,
   "metadata": {},
   "outputs": [
    {
     "data": {
      "text/plain": [
       "Index(['Team', 'Total Attempts', 'Attempts On Target', 'Attempts Off Target',\n",
       "       'Blocked', 'Balls Recovered', 'Tackles', 'Tackles Won', 'Tackles lost',\n",
       "       'Clearances Attempted', 'Passing Accuracy %', 'Passes Attempted',\n",
       "       'Passes Completed', 'Possession', 'Crossing Accuracy',\n",
       "       'Crosses Attempted', 'Crosses Completed', 'Free-kicks Taken', 'Saves',\n",
       "       'Goals Conceded', 'Own Goals Conceded', 'Saves From Penalties',\n",
       "       'Clean Sheets', 'Punches made', 'Goals', 'Right Foot', 'Left Foot',\n",
       "       'Head', 'Other', 'Goals inside Area', 'Goals outside Area',\n",
       "       'Penalties Scored', 'Attacks', 'Assists', 'Corners Taken', 'Offsides',\n",
       "       'Dribbles', 'Country', 'Fouls Commited', 'Fouls Suffered',\n",
       "       'Yellow Cards', 'Red Cards', 'symbol', 'standing', 'W', 'D', 'L', 'GF',\n",
       "       'GA', 'GD', 'P'],\n",
       "      dtype='object')"
      ]
     },
     "execution_count": 275,
     "metadata": {},
     "output_type": "execute_result"
    }
   ],
   "source": [
    "master_df.to_csv('data/master_table.csv', index=False)\n",
    "master_df.columns\n"
   ]
  },
  {
   "cell_type": "code",
   "execution_count": 276,
   "metadata": {},
   "outputs": [],
   "source": [
    "cols = [\n",
    "    'Team',\n",
    "    'Total Attempts',\n",
    "    'Attempts On Target',\n",
    "    'Attempts Off Target',\n",
    "    'Blocked',\n",
    "    'Balls Recovered',\n",
    "    'Tackles',\n",
    "    'Tackles Won',\n",
    "    'Tackles lost',\n",
    "    'Clearances Attempted',\n",
    "    'Passing Accuracy %',\n",
    "    'Passes Attempted',\n",
    "    'Passes Completed',\n",
    "    'Possession',\n",
    "    'Crossing Accuracy',\n",
    "    'Crosses Attempted',\n",
    "    'Crosses Completed',\n",
    "    'Free-kicks Taken',\n",
    "    'Saves',\n",
    "    'Goals Conceded',\n",
    "    'Own Goals Conceded',\n",
    "    'Saves From Penalties',\n",
    "    'Clean Sheets',\n",
    "    'Punches made',\n",
    "    'Goals',\n",
    "    'Right Foot',\n",
    "    'Left Foot',\n",
    "    'Head',\n",
    "    'Other',\n",
    "    'Goals inside Area',\n",
    "    'Goals outside Area',\n",
    "    'Penalties Scored',\n",
    "    'Attacks',\n",
    "    'Assists',\n",
    "    'Corners Taken',\n",
    "    'Offsides',\n",
    "    'Dribbles',\n",
    "    'Country',\n",
    "    'Fouls Commited',\n",
    "    'Fouls Suffered',\n",
    "    'Yellow Cards',\n",
    "    'Red Cards',\n",
    "    'symbol',\n",
    "    'standing',\n",
    "    'W', 'D', 'L', 'GF', 'GA', 'GD', 'P'\n",
    "]"
   ]
  },
  {
   "cell_type": "markdown",
   "metadata": {},
   "source": [
    "# Visualizations"
   ]
  },
  {
   "cell_type": "code",
   "execution_count": 211,
   "metadata": {},
   "outputs": [
    {
     "data": {
      "image/png": "[encoded data removed]",
      "text/plain": [
       "<Figure size 720x720 with 1 Axes>"
      ]
     },
     "metadata": {
      "needs_background": "light"
     },
     "output_type": "display_data"
    },
    {
     "data": {
      "text/plain": [
       "standing               -0.970164\n",
       "L                      -0.943780\n",
       "Goals Conceded         -0.712347\n",
       "GA                     -0.712347\n",
       "Fouls Commited         -0.482126\n",
       "Clearances Attempted   -0.468839\n",
       "Saves                  -0.421277\n",
       "Saves From Penalties   -0.405148\n",
       "Tackles lost           -0.399333\n",
       "Tackles                -0.389831\n",
       "Own Goals Conceded     -0.365675\n",
       "Punches made           -0.354813\n",
       "Tackles Won            -0.273527\n",
       "Yellow Cards           -0.262860\n",
       "Offsides               -0.198064\n",
       "Balls Recovered        -0.088201\n",
       "Fouls Suffered         -0.066067\n",
       "Free-kicks Taken        0.036939\n",
       "Crosses Attempted       0.092000\n",
       "D                       0.112416\n",
       "Blocked                 0.133280\n",
       "Other                   0.167633\n",
       "Crossing Accuracy       0.178935\n",
       "Red Cards               0.195819\n",
       "Dribbles                0.200290\n",
       "Crosses Completed       0.213244\n",
       "Corners Taken           0.240091\n",
       "Goals outside Area      0.348893\n",
       "Head                    0.414655\n",
       "Attempts Off Target     0.417848\n",
       "Possession              0.465893\n",
       "Penalties Scored        0.477931\n",
       "Total Attempts          0.489059\n",
       "Passing Accuracy %      0.499601\n",
       "Attacks                 0.516657\n",
       "Passes Completed        0.522303\n",
       "Passes Attempted        0.522854\n",
       "Left Foot               0.593320\n",
       "Clean Sheets            0.613262\n",
       "Attempts On Target      0.650620\n",
       "Right Foot              0.720502\n",
       "Assists                 0.727329\n",
       "Goals inside Area       0.746037\n",
       "GF                      0.776056\n",
       "Goals                   0.776056\n",
       "GD                      0.921694\n",
       "W                       0.983103\n",
       "P                       1.000000\n",
       "Name: P, dtype: float64"
      ]
     },
     "execution_count": 211,
     "metadata": {},
     "output_type": "execute_result"
    }
   ],
   "source": [
    "# quick screen for correlations\n",
    "plt.figure(figsize=(10,10))\n",
    "master_corr = master_df.corr()\n",
    "plt.matshow(master_df.corr(),fignum=1)\n",
    "plt.show()\n",
    "master_corr['P'].sort_values()"
   ]
  },
  {
   "cell_type": "code",
   "execution_count": 212,
   "metadata": {},
   "outputs": [
    {
     "data": {
      "image/png": "[encoded data removed]",
      "text/plain": [
       "<Figure size 1296x648 with 1 Axes>"
      ]
     },
     "metadata": {},
     "output_type": "display_data"
    }
   ],
   "source": [
    "# lets do stacked bar charts for right foot/ left foot/ header goals\n",
    "team_labels = master_df.symbol\n",
    "rf = master_df['Right Foot']\n",
    "lf = master_df['Left Foot']\n",
    "head = master_df['Head']\n",
    "other = master_df['Other']\n",
    "x = [rf,lf,head,other]\n",
    "\n",
    "plt.subplots(figsize=(18,9),facecolor='white')\n",
    "plt.bar(team_labels, rf, color='r')\n",
    "plt.bar(team_labels, lf, bottom=rf, color='b')\n",
    "plt.bar(team_labels, head, bottom=rf+lf, color='y')\n",
    "plt.bar(team_labels, other, bottom=rf+lf+head, color='g')\n",
    "plt.legend(['Right Foot','Left Foot','Head','Other'])\n",
    "plt.xlabel(\"Team\")\n",
    "plt.ylabel(\"Score\")\n",
    "plt.title(\"Method of Scoring\")\n",
    "plt.savefig('visualizations/method_of_scoring')\n",
    "plt.show()"
   ]
  },
  {
   "cell_type": "code",
   "execution_count": 213,
   "metadata": {},
   "outputs": [
    {
     "data": {
      "image/png": "[encoded data removed]",
      "text/plain": [
       "<Figure size 1296x720 with 1 Axes>"
      ]
     },
     "metadata": {},
     "output_type": "display_data"
    }
   ],
   "source": [
    "plt.subplots(figsize=(18,10),facecolor='white')\n",
    "plt.bar(team_labels, master_df['Goals inside Area'], color='r')\n",
    "plt.bar(team_labels, master_df['Goals outside Area'], bottom=master_df['Goals inside Area'], color='b')\n",
    "plt.xlabel(\"Team\")\n",
    "plt.ylabel(\"Method of Scoring\")\n",
    "plt.legend([\"Inside the area\", \"Outside the area\"])\n",
    "plt.title(\"Goals inside and outside the area per team\")\n",
    "plt.savefig('visualizations/scoring_areas')\n",
    "plt.show()"
   ]
  },
  {
   "cell_type": "code",
   "execution_count": 71,
   "metadata": {},
   "outputs": [
    {
     "data": {
      "text/plain": [
       "Text(0.5, 1.0, 'Histogram of points per team')"
      ]
     },
     "execution_count": 71,
     "metadata": {},
     "output_type": "execute_result"
    },
    {
     "data": {
      "image/png": "[encoded data removed]",
      "text/plain": [
       "<Figure size 432x288 with 1 Axes>"
      ]
     },
     "metadata": {
      "needs_background": "light"
     },
     "output_type": "display_data"
    }
   ],
   "source": [
    "# not much insight here but was worth a shot\n",
    "plt.hist(x=master_df.P, bins=10)\n",
    "plt.xlabel(\"Points\")\n",
    "plt.ylabel(\"# Teams\")\n",
    "plt.title(\"Histogram of points per team\")"
   ]
  },
  {
   "cell_type": "markdown",
   "metadata": {},
   "source": [
    "## Normalize data"
   ]
  },
  {
   "cell_type": "code",
   "execution_count": 277,
   "metadata": {},
   "outputs": [
    {
     "data": {
      "text/plain": [
       "Index(['Home_Team', 'Home_Total Attempts', 'Home_Attempts On Target',\n",
       "       'Home_Attempts Off Target', 'Home_Blocked', 'Home_Balls Recovered',\n",
       "       'Home_Tackles', 'Home_Tackles Won', 'Home_Tackles lost',\n",
       "       'Home_Clearances Attempted', 'Home_Passing Accuracy %',\n",
       "       'Home_Passes Attempted', 'Home_Passes Completed', 'Home_Possession',\n",
       "       'Home_Crossing Accuracy', 'Home_Crosses Attempted',\n",
       "       'Home_Crosses Completed', 'Home_Free-kicks Taken', 'Home_Saves',\n",
       "       'Home_Goals Conceded', 'Home_Own Goals Conceded',\n",
       "       'Home_Saves From Penalties', 'Home_Clean Sheets', 'Home_Punches made',\n",
       "       'Home_GP', 'Home_Goals', 'Home_Right Foot', 'Home_Left Foot',\n",
       "       'Home_Head', 'Home_Other', 'Home_Goals inside Area',\n",
       "       'Home_Goals outside Area', 'Home_Penalties Scored', 'Home_Attacks',\n",
       "       'Home_Assists', 'Home_Corners Taken', 'Home_Offsides', 'Home_Dribbles',\n",
       "       'Home_Country', 'Home_Fouls Commited', 'Home_Fouls Suffered',\n",
       "       'Home_Yellow Cards', 'Home_Red Cards', 'Home_symbol'],\n",
       "      dtype='object')"
      ]
     },
     "execution_count": 277,
     "metadata": {},
     "output_type": "execute_result"
    }
   ],
   "source": [
    "results\n",
    "home_df = uefa_df.copy()\n",
    "home_df.columns = 'Home_' + home_df.columns.values\n",
    "away_df = uefa_df.copy()\n",
    "away_df.columns = 'Away_' + away_df.columns.values\n",
    "home_df.columns"
   ]
  },
  {
   "cell_type": "code",
   "execution_count": 301,
   "metadata": {},
   "outputs": [],
   "source": [
    "predictor_df = pd.merge(results,home_df, left_on='home symbol',right_on='Home_symbol').merge(away_df, left_on='away symbol', right_on='Away_symbol')\n"
   ]
  },
  {
   "cell_type": "code",
   "execution_count": 302,
   "metadata": {},
   "outputs": [
    {
     "data": {
      "text/plain": [
       "Index(['HG', 'AG', 'Home_Total Attempts', 'Home_Attempts On Target',\n",
       "       'Home_Attempts Off Target', 'Home_Blocked', 'Home_Balls Recovered',\n",
       "       'Home_Tackles', 'Home_Tackles Won', 'Home_Tackles lost',\n",
       "       'Home_Clearances Attempted', 'Home_Passing Accuracy %',\n",
       "       'Home_Passes Attempted', 'Home_Passes Completed', 'Home_Possession',\n",
       "       'Home_Crossing Accuracy', 'Home_Crosses Attempted',\n",
       "       'Home_Crosses Completed', 'Home_Free-kicks Taken', 'Home_Saves',\n",
       "       'Home_Goals Conceded', 'Home_Own Goals Conceded',\n",
       "       'Home_Saves From Penalties', 'Home_Clean Sheets', 'Home_Punches made',\n",
       "       'Home_GP', 'Home_Goals', 'Home_Right Foot', 'Home_Left Foot',\n",
       "       'Home_Head', 'Home_Other', 'Home_Goals inside Area',\n",
       "       'Home_Goals outside Area', 'Home_Penalties Scored', 'Home_Attacks',\n",
       "       'Home_Assists', 'Home_Corners Taken', 'Home_Offsides', 'Home_Dribbles',\n",
       "       'Home_Fouls Commited', 'Home_Fouls Suffered', 'Home_Yellow Cards',\n",
       "       'Home_Red Cards', 'Away_Total Attempts', 'Away_Attempts On Target',\n",
       "       'Away_Attempts Off Target', 'Away_Blocked', 'Away_Balls Recovered',\n",
       "       'Away_Tackles', 'Away_Tackles Won', 'Away_Tackles lost',\n",
       "       'Away_Clearances Attempted', 'Away_Passing Accuracy %',\n",
       "       'Away_Passes Attempted', 'Away_Passes Completed', 'Away_Possession',\n",
       "       'Away_Crossing Accuracy', 'Away_Crosses Attempted',\n",
       "       'Away_Crosses Completed', 'Away_Free-kicks Taken', 'Away_Saves',\n",
       "       'Away_Goals Conceded', 'Away_Own Goals Conceded',\n",
       "       'Away_Saves From Penalties', 'Away_Clean Sheets', 'Away_Punches made',\n",
       "       'Away_GP', 'Away_Goals', 'Away_Right Foot', 'Away_Left Foot',\n",
       "       'Away_Head', 'Away_Other', 'Away_Goals inside Area',\n",
       "       'Away_Goals outside Area', 'Away_Penalties Scored', 'Away_Attacks',\n",
       "       'Away_Assists', 'Away_Corners Taken', 'Away_Offsides', 'Away_Dribbles',\n",
       "       'Away_Fouls Commited', 'Away_Fouls Suffered', 'Away_Yellow Cards',\n",
       "       'Away_Red Cards'],\n",
       "      dtype='object')"
      ]
     },
     "execution_count": 302,
     "metadata": {},
     "output_type": "execute_result"
    }
   ],
   "source": [
    "predictor_df.drop(columns=['date','home','away','home symbol','away symbol','Home_Team','Away_Team','Home_Country','Away_Country','Home_symbol','Away_symbol'],inplace=True)\n",
    "predictor_df.columns"
   ]
  },
  {
   "cell_type": "code",
   "execution_count": 313,
   "metadata": {},
   "outputs": [],
   "source": [
    "y = predictor_df[['HG','AG']]\n",
    "X = predictor_df[predictor_df.columns.difference(['HG','AG'])]"
   ]
  },
  {
   "cell_type": "code",
   "execution_count": 314,
   "metadata": {},
   "outputs": [],
   "source": [
    "# Normalization\n",
    "from sklearn.preprocessing import Normalizer\n",
    "normalizer = Normalizer()\n",
    "normalized_df = normalizer.fit_transform(X=X)"
   ]
  },
  {
   "cell_type": "code",
   "execution_count": 315,
   "metadata": {},
   "outputs": [],
   "source": [
    "from sklearn.model_selection import train_test_split\n",
    "X_train, X_test, y_train, y_test = train_test_split(X, y, test_size=0.2, random_state=42)"
   ]
  },
  {
   "cell_type": "code",
   "execution_count": 317,
   "metadata": {},
   "outputs": [
    {
     "data": {
      "text/plain": [
       "array([[ 0.92700195,  1.36074829],\n",
       "       [ 0.69909668,  2.33734131],\n",
       "       [ 1.97998047,  3.91842651],\n",
       "       [ 2.71722412,  1.20431519],\n",
       "       [ 0.57440186, -0.15679932],\n",
       "       [ 1.30737305,  0.44216919],\n",
       "       [ 1.07733154,  0.32852173],\n",
       "       [ 2.25030518,  0.94403076],\n",
       "       [ 4.76495361, -1.36456299],\n",
       "       [ 5.37774658,  2.55786133],\n",
       "       [ 3.64764404,  3.7578125 ],\n",
       "       [ 0.42913818,  2.82806396],\n",
       "       [-1.309021  ,  5.03250122],\n",
       "       [ 5.42602539,  1.56362915],\n",
       "       [ 1.70367432,  2.50888062],\n",
       "       [ 4.15893555,  0.23587036],\n",
       "       [ 2.54040527,  2.74536133],\n",
       "       [ 0.11535645,  0.7052002 ],\n",
       "       [ 0.92700195,  1.36074829],\n",
       "       [ 6.64398193, -1.15744019],\n",
       "       [ 4.08679199, -1.54187012],\n",
       "       [ 0.60595703,  0.68560791],\n",
       "       [ 0.80780029,  0.98184204],\n",
       "       [ 4.13378906,  0.65817261],\n",
       "       [ 2.63787842,  2.49914551],\n",
       "       [ 1.6842041 ,  1.04736328],\n",
       "       [ 0.38098145,  0.68276978],\n",
       "       [ 7.99841309, -0.79330444]])"
      ]
     },
     "execution_count": 317,
     "metadata": {},
     "output_type": "execute_result"
    }
   ],
   "source": [
    "from sklearn.linear_model import LinearRegression\n",
    "from sklearn.metrics import mean_absolute_error, mean_squared_error\n",
    "\n",
    "l_reg = LinearRegression()\n",
    "l_reg.fit(X_train, y_train)\n",
    "y_pred = l_reg.predict(X_test)\n",
    "y_pred\n"
   ]
  },
  {
   "cell_type": "code",
   "execution_count": 318,
   "metadata": {},
   "outputs": [
    {
     "name": "stdout",
     "output_type": "stream",
     "text": [
      "mse: 5.257501302736014\n",
      "mae: 1.7137391226632257\n"
     ]
    }
   ],
   "source": [
    "mse = mean_squared_error(y_pred=y_pred, y_true=y_test)\n",
    "mae = mean_absolute_error(y_pred=y_pred, y_true=y_test)\n",
    "print(f'mse: {mse}\\nmae: {mae}')"
   ]
  },
  {
   "cell_type": "code",
   "execution_count": 30,
   "metadata": {},
   "outputs": [],
   "source": [
    "# PCA?\n",
    "from sklearn.decomposition import PCA"
   ]
  },
  {
   "cell_type": "code",
   "execution_count": null,
   "metadata": {},
   "outputs": [],
   "source": [
    "# Exploration\n"
   ]
  }
 ],
 "metadata": {
  "kernelspec": {
   "display_name": "base",
   "language": "python",
   "name": "python3"
  },
  "language_info": {
   "codemirror_mode": {
    "name": "ipython",
    "version": 3
   },
   "file_extension": ".py",
   "mimetype": "text/x-python",
   "name": "python",
   "nbconvert_exporter": "python",
   "pygments_lexer": "ipython3",
   "version": "3.9.12"
  }
 },
 "nbformat": 4,
 "nbformat_minor": 2
}
