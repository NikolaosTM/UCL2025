{
 "cells": [
  {
   "cell_type": "code",
   "execution_count": 6,
   "metadata": {},
   "outputs": [],
   "source": [
    "import pandas as pd \n",
    "import numpy as np \n",
    "import matplotlib.pyplot as plt"
   ]
  },
  {
   "cell_type": "code",
   "execution_count": 7,
   "metadata": {},
   "outputs": [],
   "source": [
    "uefa_df = pd.read_csv('data/uefa.com/uefa_stats.csv') # stats from uefa website\n",
    "standings = pd.read_csv('data/other/table.csv') # table with standings +\n",
    "results =  pd.read_csv('data/other/results.csv') # all league phase match results"
   ]
  },
  {
   "cell_type": "code",
   "execution_count": 14,
   "metadata": {},
   "outputs": [],
   "source": [
    "team_map = {\n",
    "'results' : {\n",
    "    'AC Milan':'MIL',\n",
    "    'Arsenal':'ARS',\n",
    "    'Aston Villa':'AVL',\n",
    "    'Atalanta':'ATA',\n",
    "    'Atlético de Madrid':'ATM',\n",
    "    'Barcelona':'BAR',\n",
    "    'Bayer Leverkusen':'BO4',\n",
    "    'Bayern München':'MUN',\n",
    "    'Benfica':'BEN',\n",
    "    'Bologna':'BOL',\n",
    "    'Borussia Dortmund':'BVB',\n",
    "    'Brest':'BRE',\n",
    "    'Celtic':'CEL',\n",
    "    'Club Brugge':'BRU',\n",
    "    'Crvena Zvezda':'RSB',\n",
    "    'Feyenoord':'FEY',\n",
    "    'GNK Dinamo':'DZG',\n",
    "    'Girona':'GIR',\n",
    "    'Inter':'INT',\n",
    "    'Juventus':'JUV',\n",
    "    'Leipzig':'RBL',\n",
    "    'Lille':'LILL',\n",
    "    'Liverpool':'LIV',\n",
    "    'Manchester City':'MNC',\n",
    "    'Monaco':'MON',\n",
    "    'PSV Eindhoven':'PSV',\n",
    "    'Paris Saint-Germain':'PSG',\n",
    "    'Real Madrid':'RMA',\n",
    "    'Salzburg':'SLZ',\n",
    "    'Shakhtar Donetsk':'SHK',\n",
    "    'Slovan Bratislava':'SLV',\n",
    "    'Sparta Praha':'SPP',\n",
    "    'Sporting CP':'SCP',\n",
    "    'Sturm Graz':'STG',\n",
    "    'Stuttgart':'VFB',\n",
    "    'Young Boys':'YB'\n",
    "},\n",
    "'uefa_df': {\n",
    "    'Bayern München':'MUN',\n",
    "    'Man City':'MNC',\n",
    "    'Paris':'PSG',\n",
    "    'PSV':'PSV',\n",
    "    'Stuttgart': 'VFB',\n",
    "    'Atalanta':'ATA',\n",
    "    'Leverkusen':'B04',\n",
    "    'Liverpool':'LIV',\n",
    "    'Real Madrid':'RMA',\n",
    "    'Barcelona':'BAR',\n",
    "    'Milan':'MIL',\n",
    "    'B. Dortmund':'BVB',\n",
    "    'Arsenal':'ARS',\n",
    "    'Aston Villa':'AVL',\n",
    "    'Benfica':'BEN',\n",
    "    'Sporting CP':'SCP',\n",
    "    'Inter':'INT',\n",
    "    'Brest':'BRE',\n",
    "    'Leipzig':'RBL',\n",
    "    'Atleti':'ATM',\n",
    "    'Monaco':'MON',\n",
    "    'Crvena Zvezda':'RSB',\n",
    "    'Bologna':'BOL',\n",
    "    'Club Brugge':'BRU',\n",
    "    'Juventus':'JUV',\n",
    "    'Feyenoord':'FEY',\n",
    "    'Celtic':'CEL',\n",
    "    'Young Boys':'YB',\n",
    "    'Girona':'GIR',\n",
    "    'Lille':'LILL',\n",
    "    'GNK Dinamo':'DZG',\n",
    "    'Shakhtar':'SHK',\n",
    "    'Salzburg':'SLZ',\n",
    "    'Sparta Praha':'SPP',\n",
    "    'Sturm Graz':'STG',\n",
    "    'S. Bratislava':'SLV'\n",
    "}}"
   ]
  },
  {
   "cell_type": "code",
   "execution_count": 20,
   "metadata": {},
   "outputs": [],
   "source": [
    "uefa_df['symbol'] = uefa_df['Team'].map(team_map['uefa_df'])\n",
    "results['home symbol'] = results['home'].map(team_map['results'])\n",
    "results['away symbol'] = results['away'].map(team_map['results'])\n"
   ]
  },
  {
   "cell_type": "code",
   "execution_count": 62,
   "metadata": {},
   "outputs": [],
   "source": [
    "master_df = uefa_df.merge(standings, left_on='symbol', right_on='team' )\n",
    "master_df.drop(columns=['GP_y','GP_x','Country_x','team','name'], axis=1, inplace=True)\n",
    "master_df.sort_values(by='standing',ascending=True, inplace=True)\n"
   ]
  },
  {
   "cell_type": "code",
   "execution_count": 63,
   "metadata": {},
   "outputs": [],
   "source": [
    "master_df.columns\n",
    "master_df.to_csv('data/master_table.csv')"
   ]
  },
  {
   "cell_type": "code",
   "execution_count": 67,
   "metadata": {},
   "outputs": [],
   "source": [
    "cols = [\n",
    "    'Team',\n",
    "    'Total Attempts',\n",
    "    'Attempts On Target',\n",
    "    'Attempts Off Target',\n",
    "    'Blocked',\n",
    "    'Balls Recovered',\n",
    "    'Tackles',\n",
    "    'Tackles Won',\n",
    "    'Tackles lost',\n",
    "    'Clearances Attempted',\n",
    "    'Passing Accuracy %',\n",
    "    'Passes Attempted',\n",
    "    'Passes Completed',\n",
    "    'Possession',\n",
    "    'Crossing Accuracy',\n",
    "    'Crosses Attempted',\n",
    "    'Crosses Completed',\n",
    "    'Free-kicks Taken',\n",
    "    'Saves',\n",
    "    'Goals Conceded',\n",
    "    'Own Goals Conceded',\n",
    "    'Saves From Penalties',\n",
    "    'Clean Sheets',\n",
    "    'Punches made',\n",
    "    'Goals',\n",
    "    'Right Foot',\n",
    "    'Left Foot',\n",
    "    'Head',\n",
    "    'Other',\n",
    "    'Goals inside Area',\n",
    "    'Goals outside Area',\n",
    "    'Penalties Scored',\n",
    "    'Country_y',\n",
    "    'Attacks',\n",
    "    'Assists',\n",
    "    'Corners Taken',\n",
    "    'Offsides',\n",
    "    'Dribbles',\n",
    "    'Country',\n",
    "    'Fouls Commited',\n",
    "    'Fouls Suffered',\n",
    "    'Yellow Cards',\n",
    "    'Red Cards',\n",
    "    'symbol',\n",
    "    'standing', \n",
    "    'W', 'D', 'L', 'F', 'A', 'GD', 'P'\n",
    "]"
   ]
  },
  {
   "cell_type": "code",
   "execution_count": 92,
   "metadata": {},
   "outputs": [
    {
     "data": {
      "image/png": "[encoded data removed]",
      "text/plain": [
       "<Figure size 720x720 with 1 Axes>"
      ]
     },
     "metadata": {
      "needs_background": "light"
     },
     "output_type": "display_data"
    },
    {
     "data": {
      "text/plain": [
       "standing               -0.970164\n",
       "L                      -0.943780\n",
       "Goals Conceded         -0.712347\n",
       "A                      -0.712347\n",
       "Fouls Commited         -0.482126\n",
       "Clearances Attempted   -0.468839\n",
       "Saves                  -0.421277\n",
       "Saves From Penalties   -0.405148\n",
       "Tackles lost           -0.399333\n",
       "Tackles                -0.389831\n",
       "Own Goals Conceded     -0.365675\n",
       "Punches made           -0.354813\n",
       "Tackles Won            -0.273527\n",
       "Yellow Cards           -0.262860\n",
       "Offsides               -0.198064\n",
       "Balls Recovered        -0.088201\n",
       "Fouls Suffered         -0.066067\n",
       "Free-kicks Taken        0.036939\n",
       "Crosses Attempted       0.092000\n",
       "D                       0.112416\n",
       "Blocked                 0.133280\n",
       "Other                   0.167633\n",
       "Crossing Accuracy       0.178935\n",
       "Red Cards               0.195819\n",
       "Dribbles                0.200290\n",
       "Crosses Completed       0.213244\n",
       "Corners Taken           0.240091\n",
       "Goals outside Area      0.348893\n",
       "Head                    0.414655\n",
       "Attempts Off Target     0.417848\n",
       "Possession              0.465893\n",
       "Penalties Scored        0.477931\n",
       "Total Attempts          0.489059\n",
       "Passing Accuracy %      0.499601\n",
       "Attacks                 0.516657\n",
       "Passes Completed        0.522303\n",
       "Passes Attempted        0.522854\n",
       "Left Foot               0.593320\n",
       "Clean Sheets            0.613262\n",
       "Attempts On Target      0.650620\n",
       "Right Foot              0.720502\n",
       "Assists                 0.727329\n",
       "Goals inside Area       0.746037\n",
       "F                       0.776056\n",
       "Goals                   0.776056\n",
       "GD                      0.921694\n",
       "W                       0.983103\n",
       "P                       1.000000\n",
       "Name: P, dtype: float64"
      ]
     },
     "execution_count": 92,
     "metadata": {},
     "output_type": "execute_result"
    }
   ],
   "source": [
    "# quick screen for correlations\n",
    "plt.figure(figsize=(10,10))\n",
    "master_corr = master_df.corr()\n",
    "plt.matshow(master_df.corr(),fignum=1)\n",
    "plt.show()\n",
    "master_corr['P'].sort_values()"
   ]
  },
  {
   "cell_type": "code",
   "execution_count": null,
   "metadata": {},
   "outputs": [],
   "source": []
  },
  {
   "cell_type": "code",
   "execution_count": 72,
   "metadata": {},
   "outputs": [
    {
     "data": {
      "image/png": "[encoded data removed]",
      "text/plain": [
       "<Figure size 1296x720 with 1 Axes>"
      ]
     },
     "metadata": {
      "needs_background": "light"
     },
     "output_type": "display_data"
    }
   ],
   "source": [
    "# lets do stacked bar charts for right foot/ left foot/ header goals\n",
    "plt.subplots(figsize=(18,10))\n",
    "plt.bar(master_df.symbol, master_df['Right Foot'], color='r')\n",
    "plt.bar(master_df.symbol, master_df['Left Foot'], color='b')\n",
    "plt.bar(master_df.symbol, master_df['Head'], color='y')\n",
    "plt.xlabel(\"Team\")\n",
    "plt.ylabel(\"Score\")\n",
    "plt.legend([\"Right Foot\", \"Left Foot\", \"Head\"])\n",
    "plt.title(\"Method of Scoring\")\n",
    "plt.show()\n"
   ]
  },
  {
   "cell_type": "code",
   "execution_count": 68,
   "metadata": {},
   "outputs": [
    {
     "data": {
      "image/png": "[encoded data removed]",
      "text/plain": [
       "<Figure size 1296x720 with 1 Axes>"
      ]
     },
     "metadata": {
      "needs_background": "light"
     },
     "output_type": "display_data"
    }
   ],
   "source": [
    "plt.subplots(figsize=(18,10))\n",
    "plt.bar(master_df.symbol, master_df['Goals inside Area'], color='r')\n",
    "plt.bar(master_df.symbol, master_df['Goals outside Area'], color='b')\n",
    "plt.xlabel(\"Team\")\n",
    "plt.ylabel(\"Method of Scoring\")\n",
    "plt.legend([\"Inside the area\", \"Outside the area\"])\n",
    "plt.title(\"Goals inside and outside the area per team\")\n",
    "plt.show()"
   ]
  },
  {
   "cell_type": "code",
   "execution_count": 71,
   "metadata": {},
   "outputs": [
    {
     "data": {
      "text/plain": [
       "Text(0.5, 1.0, 'Histogram of points per team')"
      ]
     },
     "execution_count": 71,
     "metadata": {},
     "output_type": "execute_result"
    },
    {
     "data": {
      "image/png": "[encoded data removed]",
      "text/plain": [
       "<Figure size 432x288 with 1 Axes>"
      ]
     },
     "metadata": {
      "needs_background": "light"
     },
     "output_type": "display_data"
    }
   ],
   "source": [
    "# not much insight here but was worth a shot\n",
    "plt.hist(x=master_df.P, bins=10)\n",
    "plt.xlabel(\"Points\")\n",
    "plt.ylabel(\"# Teams\")\n",
    "plt.title(\"Histogram of points per team\")"
   ]
  },
  {
   "cell_type": "code",
   "execution_count": null,
   "metadata": {},
   "outputs": [],
   "source": [
    "\n"
   ]
  },
  {
   "cell_type": "code",
   "execution_count": null,
   "metadata": {},
   "outputs": [],
   "source": [
    "# Normalization\n",
    "from sklearn.preprocessing import Normalizer"
   ]
  },
  {
   "cell_type": "code",
   "execution_count": 30,
   "metadata": {},
   "outputs": [],
   "source": [
    "# PCA?\n",
    "from sklearn.decomposition import PCA"
   ]
  },
  {
   "cell_type": "code",
   "execution_count": null,
   "metadata": {},
   "outputs": [],
   "source": [
    "# Exploration\n"
   ]
  }
 ],
 "metadata": {
  "kernelspec": {
   "display_name": "base",
   "language": "python",
   "name": "python3"
  },
  "language_info": {
   "codemirror_mode": {
    "name": "ipython",
    "version": 3
   },
   "file_extension": ".py",
   "mimetype": "text/x-python",
   "name": "python",
   "nbconvert_exporter": "python",
   "pygments_lexer": "ipython3",
   "version": "3.9.12"
  }
 },
 "nbformat": 4,
 "nbformat_minor": 2
}
